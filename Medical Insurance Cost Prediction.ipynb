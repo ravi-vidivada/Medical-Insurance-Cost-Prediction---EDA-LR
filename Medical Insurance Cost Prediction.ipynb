{
 "cells": [
  {
   "cell_type": "code",
   "execution_count": 53,
   "id": "07496d5b",
   "metadata": {},
   "outputs": [],
   "source": [
    "import numpy as np\n",
    "import pandas as pd\n",
    "import matplotlib.pyplot as plt\n",
    "import seaborn as sns\n",
    "from sklearn.model_selection import train_test_split\n",
    "from sklearn.linear_model import LinearRegression\n",
    "from sklearn import metrics"
   ]
  },
  {
   "cell_type": "code",
   "execution_count": 54,
   "id": "73c45ec6",
   "metadata": {},
   "outputs": [
    {
     "data": {
      "text/html": [
       "<div>\n",
       "<style scoped>\n",
       "    .dataframe tbody tr th:only-of-type {\n",
       "        vertical-align: middle;\n",
       "    }\n",
       "\n",
       "    .dataframe tbody tr th {\n",
       "        vertical-align: top;\n",
       "    }\n",
       "\n",
       "    .dataframe thead th {\n",
       "        text-align: right;\n",
       "    }\n",
       "</style>\n",
       "<table border=\"1\" class=\"dataframe\">\n",
       "  <thead>\n",
       "    <tr style=\"text-align: right;\">\n",
       "      <th></th>\n",
       "      <th>age</th>\n",
       "      <th>sex</th>\n",
       "      <th>bmi</th>\n",
       "      <th>children</th>\n",
       "      <th>smoker</th>\n",
       "      <th>region</th>\n",
       "      <th>charges</th>\n",
       "    </tr>\n",
       "  </thead>\n",
       "  <tbody>\n",
       "    <tr>\n",
       "      <th>0</th>\n",
       "      <td>19</td>\n",
       "      <td>female</td>\n",
       "      <td>27.900</td>\n",
       "      <td>0</td>\n",
       "      <td>yes</td>\n",
       "      <td>southwest</td>\n",
       "      <td>16884.92400</td>\n",
       "    </tr>\n",
       "    <tr>\n",
       "      <th>1</th>\n",
       "      <td>18</td>\n",
       "      <td>male</td>\n",
       "      <td>33.770</td>\n",
       "      <td>1</td>\n",
       "      <td>no</td>\n",
       "      <td>southeast</td>\n",
       "      <td>1725.55230</td>\n",
       "    </tr>\n",
       "    <tr>\n",
       "      <th>2</th>\n",
       "      <td>28</td>\n",
       "      <td>male</td>\n",
       "      <td>33.000</td>\n",
       "      <td>3</td>\n",
       "      <td>no</td>\n",
       "      <td>southeast</td>\n",
       "      <td>4449.46200</td>\n",
       "    </tr>\n",
       "    <tr>\n",
       "      <th>3</th>\n",
       "      <td>33</td>\n",
       "      <td>male</td>\n",
       "      <td>22.705</td>\n",
       "      <td>0</td>\n",
       "      <td>no</td>\n",
       "      <td>northwest</td>\n",
       "      <td>21984.47061</td>\n",
       "    </tr>\n",
       "    <tr>\n",
       "      <th>4</th>\n",
       "      <td>32</td>\n",
       "      <td>male</td>\n",
       "      <td>28.880</td>\n",
       "      <td>0</td>\n",
       "      <td>no</td>\n",
       "      <td>northwest</td>\n",
       "      <td>3866.85520</td>\n",
       "    </tr>\n",
       "  </tbody>\n",
       "</table>\n",
       "</div>"
      ],
      "text/plain": [
       "   age     sex     bmi  children smoker     region      charges\n",
       "0   19  female  27.900         0    yes  southwest  16884.92400\n",
       "1   18    male  33.770         1     no  southeast   1725.55230\n",
       "2   28    male  33.000         3     no  southeast   4449.46200\n",
       "3   33    male  22.705         0     no  northwest  21984.47061\n",
       "4   32    male  28.880         0     no  northwest   3866.85520"
      ]
     },
     "execution_count": 54,
     "metadata": {},
     "output_type": "execute_result"
    }
   ],
   "source": [
    "insurance_dataset=pd.read_csv(r\"C:\\Users\\rvidivada\\Downloads\\insurance.csv\")\n",
    "insurance_dataset.head()"
   ]
  },
  {
   "cell_type": "code",
   "execution_count": 55,
   "id": "13afa4f9",
   "metadata": {},
   "outputs": [
    {
     "data": {
      "text/plain": [
       "(1338, 7)"
      ]
     },
     "execution_count": 55,
     "metadata": {},
     "output_type": "execute_result"
    }
   ],
   "source": [
    "#No of rows & columns\n",
    "insurance_dataset.shape"
   ]
  },
  {
   "cell_type": "code",
   "execution_count": 56,
   "id": "403558ab",
   "metadata": {},
   "outputs": [
    {
     "name": "stdout",
     "output_type": "stream",
     "text": [
      "<class 'pandas.core.frame.DataFrame'>\n",
      "RangeIndex: 1338 entries, 0 to 1337\n",
      "Data columns (total 7 columns):\n",
      " #   Column    Non-Null Count  Dtype  \n",
      "---  ------    --------------  -----  \n",
      " 0   age       1338 non-null   int64  \n",
      " 1   sex       1338 non-null   object \n",
      " 2   bmi       1338 non-null   float64\n",
      " 3   children  1338 non-null   int64  \n",
      " 4   smoker    1338 non-null   object \n",
      " 5   region    1338 non-null   object \n",
      " 6   charges   1338 non-null   float64\n",
      "dtypes: float64(2), int64(2), object(3)\n",
      "memory usage: 73.3+ KB\n"
     ]
    }
   ],
   "source": [
    "insurance_dataset.info()"
   ]
  },
  {
   "cell_type": "code",
   "execution_count": 57,
   "id": "f29e17b0",
   "metadata": {},
   "outputs": [
    {
     "data": {
      "text/plain": [
       "age         0\n",
       "sex         0\n",
       "bmi         0\n",
       "children    0\n",
       "smoker      0\n",
       "region      0\n",
       "charges     0\n",
       "dtype: int64"
      ]
     },
     "execution_count": 57,
     "metadata": {},
     "output_type": "execute_result"
    }
   ],
   "source": [
    "#checking the missing values\n",
    "insurance_dataset.isnull().sum()"
   ]
  },
  {
   "cell_type": "code",
   "execution_count": 58,
   "id": "977c4e7b",
   "metadata": {},
   "outputs": [
    {
     "data": {
      "text/html": [
       "<div>\n",
       "<style scoped>\n",
       "    .dataframe tbody tr th:only-of-type {\n",
       "        vertical-align: middle;\n",
       "    }\n",
       "\n",
       "    .dataframe tbody tr th {\n",
       "        vertical-align: top;\n",
       "    }\n",
       "\n",
       "    .dataframe thead th {\n",
       "        text-align: right;\n",
       "    }\n",
       "</style>\n",
       "<table border=\"1\" class=\"dataframe\">\n",
       "  <thead>\n",
       "    <tr style=\"text-align: right;\">\n",
       "      <th></th>\n",
       "      <th>age</th>\n",
       "      <th>bmi</th>\n",
       "      <th>children</th>\n",
       "      <th>charges</th>\n",
       "    </tr>\n",
       "  </thead>\n",
       "  <tbody>\n",
       "    <tr>\n",
       "      <th>count</th>\n",
       "      <td>1338.000000</td>\n",
       "      <td>1338.000000</td>\n",
       "      <td>1338.000000</td>\n",
       "      <td>1338.000000</td>\n",
       "    </tr>\n",
       "    <tr>\n",
       "      <th>mean</th>\n",
       "      <td>39.207025</td>\n",
       "      <td>30.663397</td>\n",
       "      <td>1.094918</td>\n",
       "      <td>13270.422265</td>\n",
       "    </tr>\n",
       "    <tr>\n",
       "      <th>std</th>\n",
       "      <td>14.049960</td>\n",
       "      <td>6.098187</td>\n",
       "      <td>1.205493</td>\n",
       "      <td>12110.011237</td>\n",
       "    </tr>\n",
       "    <tr>\n",
       "      <th>min</th>\n",
       "      <td>18.000000</td>\n",
       "      <td>15.960000</td>\n",
       "      <td>0.000000</td>\n",
       "      <td>1121.873900</td>\n",
       "    </tr>\n",
       "    <tr>\n",
       "      <th>25%</th>\n",
       "      <td>27.000000</td>\n",
       "      <td>26.296250</td>\n",
       "      <td>0.000000</td>\n",
       "      <td>4740.287150</td>\n",
       "    </tr>\n",
       "    <tr>\n",
       "      <th>50%</th>\n",
       "      <td>39.000000</td>\n",
       "      <td>30.400000</td>\n",
       "      <td>1.000000</td>\n",
       "      <td>9382.033000</td>\n",
       "    </tr>\n",
       "    <tr>\n",
       "      <th>75%</th>\n",
       "      <td>51.000000</td>\n",
       "      <td>34.693750</td>\n",
       "      <td>2.000000</td>\n",
       "      <td>16639.912515</td>\n",
       "    </tr>\n",
       "    <tr>\n",
       "      <th>max</th>\n",
       "      <td>64.000000</td>\n",
       "      <td>53.130000</td>\n",
       "      <td>5.000000</td>\n",
       "      <td>63770.428010</td>\n",
       "    </tr>\n",
       "  </tbody>\n",
       "</table>\n",
       "</div>"
      ],
      "text/plain": [
       "               age          bmi     children       charges\n",
       "count  1338.000000  1338.000000  1338.000000   1338.000000\n",
       "mean     39.207025    30.663397     1.094918  13270.422265\n",
       "std      14.049960     6.098187     1.205493  12110.011237\n",
       "min      18.000000    15.960000     0.000000   1121.873900\n",
       "25%      27.000000    26.296250     0.000000   4740.287150\n",
       "50%      39.000000    30.400000     1.000000   9382.033000\n",
       "75%      51.000000    34.693750     2.000000  16639.912515\n",
       "max      64.000000    53.130000     5.000000  63770.428010"
      ]
     },
     "execution_count": 58,
     "metadata": {},
     "output_type": "execute_result"
    }
   ],
   "source": [
    "#Statistical Measures of the dataset\n",
    "insurance_dataset.describe()"
   ]
  },
  {
   "cell_type": "code",
   "execution_count": 59,
   "id": "e7a83bc4",
   "metadata": {},
   "outputs": [
    {
     "name": "stderr",
     "output_type": "stream",
     "text": [
      "C:\\Users\\rvidivada\\AppData\\Local\\Temp\\ipykernel_14040\\1368846492.py:4: UserWarning: \n",
      "\n",
      "`distplot` is a deprecated function and will be removed in seaborn v0.14.0.\n",
      "\n",
      "Please adapt your code to use either `displot` (a figure-level function with\n",
      "similar flexibility) or `histplot` (an axes-level function for histograms).\n",
      "\n",
      "For a guide to updating your code to use the new functions, please see\n",
      "https://gist.github.com/mwaskom/de44147ed2974457ad6372750bbe5751\n",
      "\n",
      "  sns.distplot(insurance_dataset['age'])\n"
     ]
    },
    {
     "data": {
      "image/png": "[encoded data removed]",
      "text/plain": [
       "<Figure size 600x600 with 1 Axes>"
      ]
     },
     "metadata": {},
     "output_type": "display_data"
    }
   ],
   "source": [
    "#distribution of age value\n",
    "sns.set()\n",
    "plt.figure(figsize=(6,6))\n",
    "sns.distplot(insurance_dataset['age'])\n",
    "plt.title('Age Distribution')\n",
    "plt.show()"
   ]
  },
  {
   "cell_type": "code",
   "execution_count": 60,
   "id": "bdd0fd4e",
   "metadata": {},
   "outputs": [
    {
     "data": {
      "image/png": "[encoded data removed]",
      "text/plain": [
       "<Figure size 600x600 with 1 Axes>"
      ]
     },
     "metadata": {},
     "output_type": "display_data"
    }
   ],
   "source": [
    "#Gender Column\n",
    "plt.figure(figsize=(6,6))\n",
    "sns.countplot(x='sex',data=insurance_dataset)\n",
    "plt.show()"
   ]
  },
  {
   "cell_type": "code",
   "execution_count": 61,
   "id": "47e39c95",
   "metadata": {},
   "outputs": [
    {
     "data": {
      "text/plain": [
       "sex\n",
       "male      676\n",
       "female    662\n",
       "Name: count, dtype: int64"
      ]
     },
     "execution_count": 61,
     "metadata": {},
     "output_type": "execute_result"
    }
   ],
   "source": [
    "insurance_dataset['sex'].value_counts()"
   ]
  },
  {
   "cell_type": "code",
   "execution_count": 62,
   "id": "ca5f82a2",
   "metadata": {},
   "outputs": [
    {
     "name": "stderr",
     "output_type": "stream",
     "text": [
      "C:\\Users\\rvidivada\\AppData\\Local\\Temp\\ipykernel_14040\\1328292957.py:3: UserWarning: \n",
      "\n",
      "`distplot` is a deprecated function and will be removed in seaborn v0.14.0.\n",
      "\n",
      "Please adapt your code to use either `displot` (a figure-level function with\n",
      "similar flexibility) or `histplot` (an axes-level function for histograms).\n",
      "\n",
      "For a guide to updating your code to use the new functions, please see\n",
      "https://gist.github.com/mwaskom/de44147ed2974457ad6372750bbe5751\n",
      "\n",
      "  sns.distplot(insurance_dataset['bmi'])\n"
     ]
    },
    {
     "data": {
      "image/png": "[encoded data removed]",
      "text/plain": [
       "<Figure size 600x600 with 1 Axes>"
      ]
     },
     "metadata": {},
     "output_type": "display_data"
    }
   ],
   "source": [
    "#BMI Distribution\n",
    "plt.figure(figsize=(6,6))\n",
    "sns.distplot(insurance_dataset['bmi'])\n",
    "plt.title('BMI Distribution')\n",
    "plt.show()"
   ]
  },
  {
   "cell_type": "code",
   "execution_count": 63,
   "id": "b58d7409",
   "metadata": {},
   "outputs": [
    {
     "data": {
      "image/png": "[encoded data removed]",
      "text/plain": [
       "<Figure size 600x600 with 1 Axes>"
      ]
     },
     "metadata": {},
     "output_type": "display_data"
    }
   ],
   "source": [
    "#Children Column\n",
    "plt.figure(figsize=(6,6))\n",
    "sns.countplot(x='children',data=insurance_dataset)\n",
    "plt.show()"
   ]
  },
  {
   "cell_type": "code",
   "execution_count": 64,
   "id": "fd1c8f2a",
   "metadata": {},
   "outputs": [
    {
     "data": {
      "text/plain": [
       "{0, 1, 2, 3, 4, 5}"
      ]
     },
     "execution_count": 64,
     "metadata": {},
     "output_type": "execute_result"
    }
   ],
   "source": [
    "set(insurance_dataset.children)"
   ]
  },
  {
   "cell_type": "code",
   "execution_count": 65,
   "id": "b59ab2d4",
   "metadata": {},
   "outputs": [
    {
     "data": {
      "text/plain": [
       "children\n",
       "0    574\n",
       "1    324\n",
       "2    240\n",
       "3    157\n",
       "4     25\n",
       "5     18\n",
       "Name: count, dtype: int64"
      ]
     },
     "execution_count": 65,
     "metadata": {},
     "output_type": "execute_result"
    }
   ],
   "source": [
    "insurance_dataset['children'].value_counts()"
   ]
  },
  {
   "cell_type": "code",
   "execution_count": 66,
   "id": "032d46e5",
   "metadata": {},
   "outputs": [
    {
     "data": {
      "image/png": "[encoded data removed]",
      "text/plain": [
       "<Figure size 600x600 with 1 Axes>"
      ]
     },
     "metadata": {},
     "output_type": "display_data"
    }
   ],
   "source": [
    "#smoker column\n",
    "plt.figure(figsize=(6,6))\n",
    "sns.countplot(x='smoker',data=insurance_dataset)\n",
    "plt.show()"
   ]
  },
  {
   "cell_type": "code",
   "execution_count": 67,
   "id": "c7f83ef9",
   "metadata": {},
   "outputs": [
    {
     "data": {
      "text/plain": [
       "smoker\n",
       "no     1064\n",
       "yes     274\n",
       "Name: count, dtype: int64"
      ]
     },
     "execution_count": 67,
     "metadata": {},
     "output_type": "execute_result"
    }
   ],
   "source": [
    "insurance_dataset.smoker.value_counts()"
   ]
  },
  {
   "cell_type": "code",
   "execution_count": 68,
   "id": "b4b653eb",
   "metadata": {},
   "outputs": [
    {
     "data": {
      "image/png": "[encoded data removed]",
      "text/plain": [
       "<Figure size 640x480 with 1 Axes>"
      ]
     },
     "metadata": {},
     "output_type": "display_data"
    }
   ],
   "source": [
    "#Region Column\n",
    "sns.countplot(x='region', data=insurance_dataset)\n",
    "plt.title('region')\n",
    "plt.show()"
   ]
  },
  {
   "cell_type": "code",
   "execution_count": 69,
   "id": "d0f8b09f",
   "metadata": {},
   "outputs": [
    {
     "data": {
      "text/plain": [
       "region\n",
       "southeast    364\n",
       "southwest    325\n",
       "northwest    325\n",
       "northeast    324\n",
       "Name: count, dtype: int64"
      ]
     },
     "execution_count": 69,
     "metadata": {},
     "output_type": "execute_result"
    }
   ],
   "source": [
    "insurance_dataset.region.value_counts()"
   ]
  },
  {
   "cell_type": "code",
   "execution_count": 70,
   "id": "030012fe",
   "metadata": {},
   "outputs": [
    {
     "name": "stderr",
     "output_type": "stream",
     "text": [
      "C:\\Users\\rvidivada\\AppData\\Local\\Temp\\ipykernel_14040\\2635032572.py:3: UserWarning: \n",
      "\n",
      "`distplot` is a deprecated function and will be removed in seaborn v0.14.0.\n",
      "\n",
      "Please adapt your code to use either `displot` (a figure-level function with\n",
      "similar flexibility) or `histplot` (an axes-level function for histograms).\n",
      "\n",
      "For a guide to updating your code to use the new functions, please see\n",
      "https://gist.github.com/mwaskom/de44147ed2974457ad6372750bbe5751\n",
      "\n",
      "  sns.distplot(insurance_dataset['charges'])\n"
     ]
    },
    {
     "data": {
      "image/png": "[encoded data removed]",
      "text/plain": [
       "<Figure size 600x600 with 1 Axes>"
      ]
     },
     "metadata": {},
     "output_type": "display_data"
    }
   ],
   "source": [
    "#Distribution of Charges Value\n",
    "plt.figure(figsize=(6,6))\n",
    "sns.distplot(insurance_dataset['charges'])\n",
    "plt.title('Charges')\n",
    "plt.show()"
   ]
  },
  {
   "cell_type": "code",
   "execution_count": 71,
   "id": "22e63e52",
   "metadata": {},
   "outputs": [
    {
     "data": {
      "text/html": [
       "<div>\n",
       "<style scoped>\n",
       "    .dataframe tbody tr th:only-of-type {\n",
       "        vertical-align: middle;\n",
       "    }\n",
       "\n",
       "    .dataframe tbody tr th {\n",
       "        vertical-align: top;\n",
       "    }\n",
       "\n",
       "    .dataframe thead th {\n",
       "        text-align: right;\n",
       "    }\n",
       "</style>\n",
       "<table border=\"1\" class=\"dataframe\">\n",
       "  <thead>\n",
       "    <tr style=\"text-align: right;\">\n",
       "      <th></th>\n",
       "      <th>female</th>\n",
       "      <th>male</th>\n",
       "    </tr>\n",
       "  </thead>\n",
       "  <tbody>\n",
       "    <tr>\n",
       "      <th>0</th>\n",
       "      <td>1</td>\n",
       "      <td>0</td>\n",
       "    </tr>\n",
       "    <tr>\n",
       "      <th>1</th>\n",
       "      <td>0</td>\n",
       "      <td>1</td>\n",
       "    </tr>\n",
       "    <tr>\n",
       "      <th>2</th>\n",
       "      <td>0</td>\n",
       "      <td>1</td>\n",
       "    </tr>\n",
       "    <tr>\n",
       "      <th>3</th>\n",
       "      <td>0</td>\n",
       "      <td>1</td>\n",
       "    </tr>\n",
       "    <tr>\n",
       "      <th>4</th>\n",
       "      <td>0</td>\n",
       "      <td>1</td>\n",
       "    </tr>\n",
       "    <tr>\n",
       "      <th>...</th>\n",
       "      <td>...</td>\n",
       "      <td>...</td>\n",
       "    </tr>\n",
       "    <tr>\n",
       "      <th>1333</th>\n",
       "      <td>0</td>\n",
       "      <td>1</td>\n",
       "    </tr>\n",
       "    <tr>\n",
       "      <th>1334</th>\n",
       "      <td>1</td>\n",
       "      <td>0</td>\n",
       "    </tr>\n",
       "    <tr>\n",
       "      <th>1335</th>\n",
       "      <td>1</td>\n",
       "      <td>0</td>\n",
       "    </tr>\n",
       "    <tr>\n",
       "      <th>1336</th>\n",
       "      <td>1</td>\n",
       "      <td>0</td>\n",
       "    </tr>\n",
       "    <tr>\n",
       "      <th>1337</th>\n",
       "      <td>1</td>\n",
       "      <td>0</td>\n",
       "    </tr>\n",
       "  </tbody>\n",
       "</table>\n",
       "<p>1338 rows × 2 columns</p>\n",
       "</div>"
      ],
      "text/plain": [
       "      female  male\n",
       "0          1     0\n",
       "1          0     1\n",
       "2          0     1\n",
       "3          0     1\n",
       "4          0     1\n",
       "...      ...   ...\n",
       "1333       0     1\n",
       "1334       1     0\n",
       "1335       1     0\n",
       "1336       1     0\n",
       "1337       1     0\n",
       "\n",
       "[1338 rows x 2 columns]"
      ]
     },
     "execution_count": 71,
     "metadata": {},
     "output_type": "execute_result"
    }
   ],
   "source": [
    "insurance_dataset1=pd.get_dummies(insurance_dataset['sex']).astype(int)\n",
    "insurance_dataset1"
   ]
  },
  {
   "cell_type": "code",
   "execution_count": 72,
   "id": "0618a3f6",
   "metadata": {},
   "outputs": [],
   "source": [
    "#encoding sex column\n",
    "insurance_dataset.replace({'sex':{'male':0,'female':1}}, inplace=True)\n",
    "\n",
    "#encoding smoker column\n",
    "insurance_dataset.replace({'smoker':{'yes':0,'no':1}},inplace=True)\n",
    "\n",
    "#encoding region column\n",
    "insurance_dataset.replace({'region':{'southeast':0,'southwest':1,'northeast':2,'northwest':3}},inplace=True)"
   ]
  },
  {
   "cell_type": "code",
   "execution_count": 73,
   "id": "aeed7f56",
   "metadata": {},
   "outputs": [
    {
     "data": {
      "text/html": [
       "<div>\n",
       "<style scoped>\n",
       "    .dataframe tbody tr th:only-of-type {\n",
       "        vertical-align: middle;\n",
       "    }\n",
       "\n",
       "    .dataframe tbody tr th {\n",
       "        vertical-align: top;\n",
       "    }\n",
       "\n",
       "    .dataframe thead th {\n",
       "        text-align: right;\n",
       "    }\n",
       "</style>\n",
       "<table border=\"1\" class=\"dataframe\">\n",
       "  <thead>\n",
       "    <tr style=\"text-align: right;\">\n",
       "      <th></th>\n",
       "      <th>age</th>\n",
       "      <th>sex</th>\n",
       "      <th>bmi</th>\n",
       "      <th>children</th>\n",
       "      <th>smoker</th>\n",
       "      <th>region</th>\n",
       "      <th>charges</th>\n",
       "    </tr>\n",
       "  </thead>\n",
       "  <tbody>\n",
       "    <tr>\n",
       "      <th>0</th>\n",
       "      <td>19</td>\n",
       "      <td>1</td>\n",
       "      <td>27.900</td>\n",
       "      <td>0</td>\n",
       "      <td>0</td>\n",
       "      <td>1</td>\n",
       "      <td>16884.92400</td>\n",
       "    </tr>\n",
       "    <tr>\n",
       "      <th>1</th>\n",
       "      <td>18</td>\n",
       "      <td>0</td>\n",
       "      <td>33.770</td>\n",
       "      <td>1</td>\n",
       "      <td>1</td>\n",
       "      <td>0</td>\n",
       "      <td>1725.55230</td>\n",
       "    </tr>\n",
       "    <tr>\n",
       "      <th>2</th>\n",
       "      <td>28</td>\n",
       "      <td>0</td>\n",
       "      <td>33.000</td>\n",
       "      <td>3</td>\n",
       "      <td>1</td>\n",
       "      <td>0</td>\n",
       "      <td>4449.46200</td>\n",
       "    </tr>\n",
       "    <tr>\n",
       "      <th>3</th>\n",
       "      <td>33</td>\n",
       "      <td>0</td>\n",
       "      <td>22.705</td>\n",
       "      <td>0</td>\n",
       "      <td>1</td>\n",
       "      <td>3</td>\n",
       "      <td>21984.47061</td>\n",
       "    </tr>\n",
       "    <tr>\n",
       "      <th>4</th>\n",
       "      <td>32</td>\n",
       "      <td>0</td>\n",
       "      <td>28.880</td>\n",
       "      <td>0</td>\n",
       "      <td>1</td>\n",
       "      <td>3</td>\n",
       "      <td>3866.85520</td>\n",
       "    </tr>\n",
       "  </tbody>\n",
       "</table>\n",
       "</div>"
      ],
      "text/plain": [
       "   age  sex     bmi  children  smoker  region      charges\n",
       "0   19    1  27.900         0       0       1  16884.92400\n",
       "1   18    0  33.770         1       1       0   1725.55230\n",
       "2   28    0  33.000         3       1       0   4449.46200\n",
       "3   33    0  22.705         0       1       3  21984.47061\n",
       "4   32    0  28.880         0       1       3   3866.85520"
      ]
     },
     "execution_count": 73,
     "metadata": {},
     "output_type": "execute_result"
    }
   ],
   "source": [
    "insurance_dataset.head()"
   ]
  },
  {
   "cell_type": "code",
   "execution_count": 74,
   "id": "2a47a07e",
   "metadata": {},
   "outputs": [
    {
     "data": {
      "text/html": [
       "<div>\n",
       "<style scoped>\n",
       "    .dataframe tbody tr th:only-of-type {\n",
       "        vertical-align: middle;\n",
       "    }\n",
       "\n",
       "    .dataframe tbody tr th {\n",
       "        vertical-align: top;\n",
       "    }\n",
       "\n",
       "    .dataframe thead th {\n",
       "        text-align: right;\n",
       "    }\n",
       "</style>\n",
       "<table border=\"1\" class=\"dataframe\">\n",
       "  <thead>\n",
       "    <tr style=\"text-align: right;\">\n",
       "      <th></th>\n",
       "      <th>age</th>\n",
       "      <th>sex</th>\n",
       "      <th>bmi</th>\n",
       "      <th>children</th>\n",
       "      <th>smoker</th>\n",
       "      <th>region</th>\n",
       "    </tr>\n",
       "  </thead>\n",
       "  <tbody>\n",
       "    <tr>\n",
       "      <th>0</th>\n",
       "      <td>19</td>\n",
       "      <td>1</td>\n",
       "      <td>27.900</td>\n",
       "      <td>0</td>\n",
       "      <td>0</td>\n",
       "      <td>1</td>\n",
       "    </tr>\n",
       "    <tr>\n",
       "      <th>1</th>\n",
       "      <td>18</td>\n",
       "      <td>0</td>\n",
       "      <td>33.770</td>\n",
       "      <td>1</td>\n",
       "      <td>1</td>\n",
       "      <td>0</td>\n",
       "    </tr>\n",
       "    <tr>\n",
       "      <th>2</th>\n",
       "      <td>28</td>\n",
       "      <td>0</td>\n",
       "      <td>33.000</td>\n",
       "      <td>3</td>\n",
       "      <td>1</td>\n",
       "      <td>0</td>\n",
       "    </tr>\n",
       "    <tr>\n",
       "      <th>3</th>\n",
       "      <td>33</td>\n",
       "      <td>0</td>\n",
       "      <td>22.705</td>\n",
       "      <td>0</td>\n",
       "      <td>1</td>\n",
       "      <td>3</td>\n",
       "    </tr>\n",
       "    <tr>\n",
       "      <th>4</th>\n",
       "      <td>32</td>\n",
       "      <td>0</td>\n",
       "      <td>28.880</td>\n",
       "      <td>0</td>\n",
       "      <td>1</td>\n",
       "      <td>3</td>\n",
       "    </tr>\n",
       "  </tbody>\n",
       "</table>\n",
       "</div>"
      ],
      "text/plain": [
       "   age  sex     bmi  children  smoker  region\n",
       "0   19    1  27.900         0       0       1\n",
       "1   18    0  33.770         1       1       0\n",
       "2   28    0  33.000         3       1       0\n",
       "3   33    0  22.705         0       1       3\n",
       "4   32    0  28.880         0       1       3"
      ]
     },
     "execution_count": 74,
     "metadata": {},
     "output_type": "execute_result"
    }
   ],
   "source": [
    "#Splitting the features\n",
    "X=insurance_dataset.drop('charges', axis=1)\n",
    "X.head()"
   ]
  },
  {
   "cell_type": "code",
   "execution_count": 75,
   "id": "e92bf19c",
   "metadata": {},
   "outputs": [
    {
     "data": {
      "text/html": [
       "<div>\n",
       "<style scoped>\n",
       "    .dataframe tbody tr th:only-of-type {\n",
       "        vertical-align: middle;\n",
       "    }\n",
       "\n",
       "    .dataframe tbody tr th {\n",
       "        vertical-align: top;\n",
       "    }\n",
       "\n",
       "    .dataframe thead th {\n",
       "        text-align: right;\n",
       "    }\n",
       "</style>\n",
       "<table border=\"1\" class=\"dataframe\">\n",
       "  <thead>\n",
       "    <tr style=\"text-align: right;\">\n",
       "      <th></th>\n",
       "      <th>charges</th>\n",
       "    </tr>\n",
       "  </thead>\n",
       "  <tbody>\n",
       "    <tr>\n",
       "      <th>0</th>\n",
       "      <td>16884.92400</td>\n",
       "    </tr>\n",
       "    <tr>\n",
       "      <th>1</th>\n",
       "      <td>1725.55230</td>\n",
       "    </tr>\n",
       "    <tr>\n",
       "      <th>2</th>\n",
       "      <td>4449.46200</td>\n",
       "    </tr>\n",
       "    <tr>\n",
       "      <th>3</th>\n",
       "      <td>21984.47061</td>\n",
       "    </tr>\n",
       "    <tr>\n",
       "      <th>4</th>\n",
       "      <td>3866.85520</td>\n",
       "    </tr>\n",
       "  </tbody>\n",
       "</table>\n",
       "</div>"
      ],
      "text/plain": [
       "       charges\n",
       "0  16884.92400\n",
       "1   1725.55230\n",
       "2   4449.46200\n",
       "3  21984.47061\n",
       "4   3866.85520"
      ]
     },
     "execution_count": 75,
     "metadata": {},
     "output_type": "execute_result"
    }
   ],
   "source": [
    "Y=insurance_dataset[['charges']]\n",
    "Y.head()"
   ]
  },
  {
   "cell_type": "code",
   "execution_count": 76,
   "id": "44c4871c",
   "metadata": {},
   "outputs": [
    {
     "data": {
      "text/plain": [
       "((1338, 6), (1070, 6), (268, 6))"
      ]
     },
     "execution_count": 76,
     "metadata": {},
     "output_type": "execute_result"
    }
   ],
   "source": [
    "#splitting the data into training and testing\n",
    "\n",
    "X_train,X_test,Y_train,Y_test=train_test_split(X,Y, test_size=0.2,random_state=1)\n",
    "X.shape,X_train.shape,X_test.shape"
   ]
  },
  {
   "cell_type": "code",
   "execution_count": 77,
   "id": "e149fc99",
   "metadata": {},
   "outputs": [
    {
     "data": {
      "text/html": [
       "<style>#sk-container-id-2 {color: black;}#sk-container-id-2 pre{padding: 0;}#sk-container-id-2 div.sk-toggleable {background-color: white;}#sk-container-id-2 label.sk-toggleable__label {cursor: pointer;display: block;width: 100%;margin-bottom: 0;padding: 0.3em;box-sizing: border-box;text-align: center;}#sk-container-id-2 label.sk-toggleable__label-arrow:before {content: \"▸\";float: left;margin-right: 0.25em;color: #696969;}#sk-container-id-2 label.sk-toggleable__label-arrow:hover:before {color: black;}#sk-container-id-2 div.sk-estimator:hover label.sk-toggleable__label-arrow:before {color: black;}#sk-container-id-2 div.sk-toggleable__content {max-height: 0;max-width: 0;overflow: hidden;text-align: left;background-color: #f0f8ff;}#sk-container-id-2 div.sk-toggleable__content pre {margin: 0.2em;color: black;border-radius: 0.25em;background-color: #f0f8ff;}#sk-container-id-2 input.sk-toggleable__control:checked~div.sk-toggleable__content {max-height: 200px;max-width: 100%;overflow: auto;}#sk-container-id-2 input.sk-toggleable__control:checked~label.sk-toggleable__label-arrow:before {content: \"▾\";}#sk-container-id-2 div.sk-estimator input.sk-toggleable__control:checked~label.sk-toggleable__label {background-color: #d4ebff;}#sk-container-id-2 div.sk-label input.sk-toggleable__control:checked~label.sk-toggleable__label {background-color: #d4ebff;}#sk-container-id-2 input.sk-hidden--visually {border: 0;clip: rect(1px 1px 1px 1px);clip: rect(1px, 1px, 1px, 1px);height: 1px;margin: -1px;overflow: hidden;padding: 0;position: absolute;width: 1px;}#sk-container-id-2 div.sk-estimator {font-family: monospace;background-color: #f0f8ff;border: 1px dotted black;border-radius: 0.25em;box-sizing: border-box;margin-bottom: 0.5em;}#sk-container-id-2 div.sk-estimator:hover {background-color: #d4ebff;}#sk-container-id-2 div.sk-parallel-item::after {content: \"\";width: 100%;border-bottom: 1px solid gray;flex-grow: 1;}#sk-container-id-2 div.sk-label:hover label.sk-toggleable__label {background-color: #d4ebff;}#sk-container-id-2 div.sk-serial::before {content: \"\";position: absolute;border-left: 1px solid gray;box-sizing: border-box;top: 0;bottom: 0;left: 50%;z-index: 0;}#sk-container-id-2 div.sk-serial {display: flex;flex-direction: column;align-items: center;background-color: white;padding-right: 0.2em;padding-left: 0.2em;position: relative;}#sk-container-id-2 div.sk-item {position: relative;z-index: 1;}#sk-container-id-2 div.sk-parallel {display: flex;align-items: stretch;justify-content: center;background-color: white;position: relative;}#sk-container-id-2 div.sk-item::before, #sk-container-id-2 div.sk-parallel-item::before {content: \"\";position: absolute;border-left: 1px solid gray;box-sizing: border-box;top: 0;bottom: 0;left: 50%;z-index: -1;}#sk-container-id-2 div.sk-parallel-item {display: flex;flex-direction: column;z-index: 1;position: relative;background-color: white;}#sk-container-id-2 div.sk-parallel-item:first-child::after {align-self: flex-end;width: 50%;}#sk-container-id-2 div.sk-parallel-item:last-child::after {align-self: flex-start;width: 50%;}#sk-container-id-2 div.sk-parallel-item:only-child::after {width: 0;}#sk-container-id-2 div.sk-dashed-wrapped {border: 1px dashed gray;margin: 0 0.4em 0.5em 0.4em;box-sizing: border-box;padding-bottom: 0.4em;background-color: white;}#sk-container-id-2 div.sk-label label {font-family: monospace;font-weight: bold;display: inline-block;line-height: 1.2em;}#sk-container-id-2 div.sk-label-container {text-align: center;}#sk-container-id-2 div.sk-container {/* jupyter's `normalize.less` sets `[hidden] { display: none; }` but bootstrap.min.css set `[hidden] { display: none !important; }` so we also need the `!important` here to be able to override the default hidden behavior on the sphinx rendered scikit-learn.org. See: https://github.com/scikit-learn/scikit-learn/issues/21755 */display: inline-block !important;position: relative;}#sk-container-id-2 div.sk-text-repr-fallback {display: none;}</style><div id=\"sk-container-id-2\" class=\"sk-top-container\"><div class=\"sk-text-repr-fallback\"><pre>LinearRegression()</pre><b>In a Jupyter environment, please rerun this cell to show the HTML representation or trust the notebook. <br />On GitHub, the HTML representation is unable to render, please try loading this page with nbviewer.org.</b></div><div class=\"sk-container\" hidden><div class=\"sk-item\"><div class=\"sk-estimator sk-toggleable\"><input class=\"sk-toggleable__control sk-hidden--visually\" id=\"sk-estimator-id-2\" type=\"checkbox\" checked><label for=\"sk-estimator-id-2\" class=\"sk-toggleable__label sk-toggleable__label-arrow\">LinearRegression</label><div class=\"sk-toggleable__content\"><pre>LinearRegression()</pre></div></div></div></div></div>"
      ],
      "text/plain": [
       "LinearRegression()"
      ]
     },
     "execution_count": 77,
     "metadata": {},
     "output_type": "execute_result"
    }
   ],
   "source": [
    "#Linear Regression Model Training\n",
    "\n",
    "regressor=LinearRegression()\n",
    "\n",
    "regressor.fit(X_train,Y_train)"
   ]
  },
  {
   "cell_type": "code",
   "execution_count": 91,
   "id": "3205c15a",
   "metadata": {},
   "outputs": [
    {
     "name": "stdout",
     "output_type": "stream",
     "text": [
      "Mean Squared Error : 36856825.51459766\n",
      "Root Mean Squared Error : 6070.98225286466\n",
      "R Squared Value : 0.75\n"
     ]
    }
   ],
   "source": [
    "#Model Evaluation\n",
    "\n",
    "#Predictio on training data\n",
    "\n",
    "from math import sqrt\n",
    "\n",
    "training_data_prediction=regressor.predict(X_train)\n",
    "\n",
    "mean_squared_error = metrics.mean_squared_error(Y_train,training_data_prediction)\n",
    "\n",
    "RMSE = sqrt(mean_squared_error)\n",
    "\n",
    "r2_train = metrics.r2_score(Y_train,training_data_prediction)\n",
    "\n",
    "print('Mean Squared Error :', mean_squared_error)\n",
    "print('Root Mean Squared Error :', RMSE)\n",
    "print('R Squared Value :', r2_train.round(2))"
   ]
  },
  {
   "cell_type": "code",
   "execution_count": 90,
   "id": "0998a7c4",
   "metadata": {},
   "outputs": [
    {
     "name": "stdout",
     "output_type": "stream",
     "text": [
      "Mean Squared Error : 35554254.28\n",
      "Root Mean Squared Error : 5962.738823418937\n",
      "R Squared Value : 0.76\n"
     ]
    }
   ],
   "source": [
    "#Prediction on testing data\n",
    "\n",
    "testing_data_prediction = regressor.predict(X_test)\n",
    "\n",
    "mean_squared_error_test = metrics.mean_squared_error(Y_test,testing_data_prediction)\n",
    "\n",
    "RMSE_test = sqrt(mean_squared_error_test)\n",
    "\n",
    "r2_test = metrics.r2_score(Y_test,testing_data_prediction)\n",
    "\n",
    "print('Mean Squared Error :', mean_squared_error_test.round(2))\n",
    "print('Root Mean Squared Error :', RMSE_test)\n",
    "print('R Squared Value :',r2_test.round(2))"
   ]
  },
  {
   "cell_type": "code",
   "execution_count": 80,
   "id": "9473cae2",
   "metadata": {},
   "outputs": [
    {
     "data": {
      "text/plain": [
       "array([[ 4620.90467959],\n",
       "       [13127.83250098],\n",
       "       [12759.9818321 ],\n",
       "       [13265.91226726],\n",
       "       [  757.65628654],\n",
       "       [32329.28549084],\n",
       "       [12917.8433707 ],\n",
       "       [11884.66143705],\n",
       "       [ 3374.18206364],\n",
       "       [29532.40525346],\n",
       "       [11057.76370998],\n",
       "       [17643.26013992],\n",
       "       [ 8699.26424936],\n",
       "       [ 8526.04855417],\n",
       "       [ 3170.30642817],\n",
       "       [10614.73195534],\n",
       "       [ 4140.57900577],\n",
       "       [ 7102.36838489],\n",
       "       [15012.63802612],\n",
       "       [14613.18065127],\n",
       "       [12104.64774013],\n",
       "       [32944.78460589],\n",
       "       [ 9320.66219815],\n",
       "       [ 9192.22534682],\n",
       "       [ 2591.49770798],\n",
       "       [ 8408.86297734],\n",
       "       [ 9100.90406182],\n",
       "       [10771.45401091],\n",
       "       [ 7847.44549266],\n",
       "       [ 3964.61152465],\n",
       "       [14292.63773394],\n",
       "       [ 5994.07365317],\n",
       "       [34191.46769235],\n",
       "       [27268.8434036 ],\n",
       "       [33374.2491545 ],\n",
       "       [ 9800.44644094],\n",
       "       [30612.82093305],\n",
       "       [26823.70919355],\n",
       "       [15165.10590522],\n",
       "       [34132.95824204],\n",
       "       [ 6311.77497822],\n",
       "       [14292.31728462],\n",
       "       [10722.03740534],\n",
       "       [15245.70666074],\n",
       "       [ 4372.54504777],\n",
       "       [12681.21149693],\n",
       "       [ 4360.57924701],\n",
       "       [28664.89036173],\n",
       "       [ 7522.64578033],\n",
       "       [13784.74011182],\n",
       "       [13323.3767472 ],\n",
       "       [12489.20939013],\n",
       "       [ 2127.3718819 ],\n",
       "       [ 9038.63517501],\n",
       "       [25674.56442411],\n",
       "       [10121.26282692],\n",
       "       [34223.68945697],\n",
       "       [14703.39849225],\n",
       "       [ 2794.2297363 ],\n",
       "       [ 5901.44168645],\n",
       "       [ 6583.24449741],\n",
       "       [14510.97281785],\n",
       "       [26991.2060841 ],\n",
       "       [ 3523.96294101],\n",
       "       [15342.31764602],\n",
       "       [11449.7230629 ],\n",
       "       [11349.05329152],\n",
       "       [10506.39979138],\n",
       "       [ 1771.50811351],\n",
       "       [24878.06338125],\n",
       "       [37762.6049499 ],\n",
       "       [32669.03817269],\n",
       "       [ 2180.98114235],\n",
       "       [11567.79554961],\n",
       "       [13930.44254705],\n",
       "       [34525.98947102],\n",
       "       [ 3445.01360889],\n",
       "       [ 3934.63226816],\n",
       "       [10554.76196993],\n",
       "       [10657.13748068],\n",
       "       [ -474.63436885],\n",
       "       [14272.05288887],\n",
       "       [10579.83098726],\n",
       "       [ 3362.14636084],\n",
       "       [33058.60457451],\n",
       "       [33096.01046586],\n",
       "       [ 7348.2862633 ],\n",
       "       [37691.90071463],\n",
       "       [12386.78177041],\n",
       "       [10518.80059821],\n",
       "       [30378.24990789],\n",
       "       [33555.42762401],\n",
       "       [14743.02311897],\n",
       "       [10816.88583598],\n",
       "       [  508.28608553],\n",
       "       [10599.78416556],\n",
       "       [ 9823.04887954],\n",
       "       [14951.47787182],\n",
       "       [15190.2017842 ],\n",
       "       [ 5639.78506202],\n",
       "       [13914.06840866],\n",
       "       [26332.91334339],\n",
       "       [28329.92899999],\n",
       "       [27623.47930572],\n",
       "       [35393.77071079],\n",
       "       [27381.49536916],\n",
       "       [  844.06178515],\n",
       "       [ 9447.2860677 ],\n",
       "       [ 4708.87018091],\n",
       "       [12020.48988535],\n",
       "       [ 5383.65864901],\n",
       "       [ 4816.78843852],\n",
       "       [ 1324.76183582],\n",
       "       [18973.0054354 ],\n",
       "       [ 3520.86405881],\n",
       "       [ 1884.71035351],\n",
       "       [11825.55390371],\n",
       "       [12847.86819952],\n",
       "       [11369.3449269 ],\n",
       "       [ 3961.68812851],\n",
       "       [ 9106.51917646],\n",
       "       [13413.79526704],\n",
       "       [ 7753.78701621],\n",
       "       [ 6794.31655417],\n",
       "       [36695.1658136 ],\n",
       "       [12315.39727028],\n",
       "       [11785.949396  ],\n",
       "       [29341.68841039],\n",
       "       [36056.85595655],\n",
       "       [11781.94144856],\n",
       "       [28157.85402728],\n",
       "       [ -202.56251028],\n",
       "       [ 7802.68633841],\n",
       "       [31642.45378041],\n",
       "       [ 8481.38145731],\n",
       "       [ -461.02615878],\n",
       "       [ 1445.72120624],\n",
       "       [ 4628.42380124],\n",
       "       [ 7870.65481369],\n",
       "       [12138.94082159],\n",
       "       [14426.31327623],\n",
       "       [ 8695.94558086],\n",
       "       [28968.93797059],\n",
       "       [15728.43540987],\n",
       "       [14218.54983866],\n",
       "       [11373.41994315],\n",
       "       [ 1955.21428788],\n",
       "       [10205.84466823],\n",
       "       [ 3810.98568133],\n",
       "       [ 6405.17863049],\n",
       "       [11410.89124494],\n",
       "       [ 5731.33367285],\n",
       "       [14770.25776157],\n",
       "       [13232.54300664],\n",
       "       [12709.74843339],\n",
       "       [ 7229.40354226],\n",
       "       [11940.53717955],\n",
       "       [10489.02473459],\n",
       "       [ 9828.80480985],\n",
       "       [ 4728.2589319 ],\n",
       "       [ 5699.0959368 ],\n",
       "       [40399.16592385],\n",
       "       [13087.14381994],\n",
       "       [ 4495.1226358 ],\n",
       "       [ 8629.01226191],\n",
       "       [ 4712.49514586],\n",
       "       [32239.24952408],\n",
       "       [11444.57748494],\n",
       "       [11159.558822  ],\n",
       "       [ 6466.71274271],\n",
       "       [ 6603.38217585],\n",
       "       [ 6927.19945098],\n",
       "       [32697.28054078],\n",
       "       [35162.16528123],\n",
       "       [ 2436.33198096],\n",
       "       [ 7225.66991179],\n",
       "       [ 5378.48760903],\n",
       "       [15052.85577083],\n",
       "       [ 1082.01401198],\n",
       "       [11404.16964882],\n",
       "       [13013.84976556],\n",
       "       [11084.55982515],\n",
       "       [10788.04709466],\n",
       "       [12730.32463927],\n",
       "       [ 2649.96860951],\n",
       "       [27602.26610053],\n",
       "       [ 2401.22824624],\n",
       "       [14726.32832704],\n",
       "       [ 6578.14729976],\n",
       "       [10103.23601522],\n",
       "       [15190.06400599],\n",
       "       [38852.33225941],\n",
       "       [ 2330.17711892],\n",
       "       [ 1741.26827091],\n",
       "       [ 5422.6345893 ],\n",
       "       [ 7772.23801867],\n",
       "       [ 7900.72179923],\n",
       "       [ 4732.55327148],\n",
       "       [10898.41675646],\n",
       "       [ 8971.75375034],\n",
       "       [ 9413.51331753],\n",
       "       [11242.68089423],\n",
       "       [10494.79256672],\n",
       "       [ 9259.49712285],\n",
       "       [ 8304.73041514],\n",
       "       [  951.89556894],\n",
       "       [ 9684.90962802],\n",
       "       [ 7347.34830007],\n",
       "       [ 6169.61160053],\n",
       "       [11894.31952655],\n",
       "       [ 4983.45539465],\n",
       "       [32924.1489662 ],\n",
       "       [ 6603.81043928],\n",
       "       [ 6460.22732631],\n",
       "       [ 8089.67052995],\n",
       "       [39111.17029524],\n",
       "       [11515.72333961],\n",
       "       [28330.40607621],\n",
       "       [ 2925.20454602],\n",
       "       [33382.62667609],\n",
       "       [ 3257.27593208],\n",
       "       [31665.70165021],\n",
       "       [14030.13414804],\n",
       "       [ 2292.9259814 ],\n",
       "       [ 2171.47742872],\n",
       "       [ 1484.09297811],\n",
       "       [ 6353.64581518],\n",
       "       [ 4642.55276154],\n",
       "       [25787.04540569],\n",
       "       [15751.26234108],\n",
       "       [ 5554.44954292],\n",
       "       [13037.64295525],\n",
       "       [38945.1882998 ],\n",
       "       [ 4356.80032512],\n",
       "       [12251.95669578],\n",
       "       [11529.10951235],\n",
       "       [28047.63750189],\n",
       "       [ 3048.43286421],\n",
       "       [12922.07784708],\n",
       "       [ 5767.35469308],\n",
       "       [15194.0114566 ],\n",
       "       [ 5785.45241841],\n",
       "       [16454.84214782],\n",
       "       [ 3943.72326039],\n",
       "       [12234.82892364],\n",
       "       [34245.88739136],\n",
       "       [10673.81524556],\n",
       "       [10767.4384799 ],\n",
       "       [ 4899.22720843],\n",
       "       [16954.92849422],\n",
       "       [14601.73005351],\n",
       "       [ 5071.07604025],\n",
       "       [11210.3158482 ],\n",
       "       [12497.44667825],\n",
       "       [ 4205.52689181],\n",
       "       [ 6705.1196757 ],\n",
       "       [27244.57682233],\n",
       "       [31809.46024925],\n",
       "       [ -187.23029435],\n",
       "       [39843.40617219],\n",
       "       [ 9412.98498374],\n",
       "       [ 8000.87594561],\n",
       "       [10687.46692541],\n",
       "       [33719.58122497],\n",
       "       [36171.43735719],\n",
       "       [36655.50631226],\n",
       "       [ 5186.15091053],\n",
       "       [ 5695.34591291]])"
      ]
     },
     "execution_count": 80,
     "metadata": {},
     "output_type": "execute_result"
    }
   ],
   "source": [
    "#Predicted Charges\n",
    "testing_data_prediction"
   ]
  },
  {
   "cell_type": "code",
   "execution_count": 81,
   "id": "99558dd6",
   "metadata": {},
   "outputs": [
    {
     "data": {
      "text/html": [
       "<div>\n",
       "<style scoped>\n",
       "    .dataframe tbody tr th:only-of-type {\n",
       "        vertical-align: middle;\n",
       "    }\n",
       "\n",
       "    .dataframe tbody tr th {\n",
       "        vertical-align: top;\n",
       "    }\n",
       "\n",
       "    .dataframe thead th {\n",
       "        text-align: right;\n",
       "    }\n",
       "</style>\n",
       "<table border=\"1\" class=\"dataframe\">\n",
       "  <thead>\n",
       "    <tr style=\"text-align: right;\">\n",
       "      <th></th>\n",
       "      <th>Actual</th>\n",
       "      <th>Predicted</th>\n",
       "    </tr>\n",
       "  </thead>\n",
       "  <tbody>\n",
       "    <tr>\n",
       "      <th>0</th>\n",
       "      <td>1646.43</td>\n",
       "      <td>4620.90</td>\n",
       "    </tr>\n",
       "    <tr>\n",
       "      <th>1</th>\n",
       "      <td>11353.23</td>\n",
       "      <td>13127.83</td>\n",
       "    </tr>\n",
       "    <tr>\n",
       "      <th>2</th>\n",
       "      <td>8798.59</td>\n",
       "      <td>12759.98</td>\n",
       "    </tr>\n",
       "    <tr>\n",
       "      <th>3</th>\n",
       "      <td>10381.48</td>\n",
       "      <td>13265.91</td>\n",
       "    </tr>\n",
       "    <tr>\n",
       "      <th>4</th>\n",
       "      <td>2103.08</td>\n",
       "      <td>757.66</td>\n",
       "    </tr>\n",
       "    <tr>\n",
       "      <th>...</th>\n",
       "      <td>...</td>\n",
       "      <td>...</td>\n",
       "    </tr>\n",
       "    <tr>\n",
       "      <th>263</th>\n",
       "      <td>40103.89</td>\n",
       "      <td>33719.58</td>\n",
       "    </tr>\n",
       "    <tr>\n",
       "      <th>264</th>\n",
       "      <td>42983.46</td>\n",
       "      <td>36171.44</td>\n",
       "    </tr>\n",
       "    <tr>\n",
       "      <th>265</th>\n",
       "      <td>44202.65</td>\n",
       "      <td>36655.51</td>\n",
       "    </tr>\n",
       "    <tr>\n",
       "      <th>266</th>\n",
       "      <td>2136.88</td>\n",
       "      <td>5186.15</td>\n",
       "    </tr>\n",
       "    <tr>\n",
       "      <th>267</th>\n",
       "      <td>5227.99</td>\n",
       "      <td>5695.35</td>\n",
       "    </tr>\n",
       "  </tbody>\n",
       "</table>\n",
       "<p>268 rows × 2 columns</p>\n",
       "</div>"
      ],
      "text/plain": [
       "       Actual  Predicted\n",
       "0     1646.43    4620.90\n",
       "1    11353.23   13127.83\n",
       "2     8798.59   12759.98\n",
       "3    10381.48   13265.91\n",
       "4     2103.08     757.66\n",
       "..        ...        ...\n",
       "263  40103.89   33719.58\n",
       "264  42983.46   36171.44\n",
       "265  44202.65   36655.51\n",
       "266   2136.88    5186.15\n",
       "267   5227.99    5695.35\n",
       "\n",
       "[268 rows x 2 columns]"
      ]
     },
     "execution_count": 81,
     "metadata": {},
     "output_type": "execute_result"
    }
   ],
   "source": [
    "#Predicted vs Actual Data\n",
    "Y_test_flat=np.ravel(Y_test)\n",
    "Y_predict_flat=np.ravel(testing_data_prediction)\n",
    "df=pd.DataFrame({'Actual':Y_test_flat.round(2),'Predicted':Y_predict_flat.round(2)})\n",
    "df"
   ]
  },
  {
   "cell_type": "code",
   "execution_count": null,
   "id": "a5e05c4e",
   "metadata": {},
   "outputs": [],
   "source": []
  },
  {
   "cell_type": "code",
   "execution_count": null,
   "id": "6a7e06b0",
   "metadata": {},
   "outputs": [],
   "source": []
  }
 ],
 "metadata": {
  "kernelspec": {
   "display_name": "Python 3 (ipykernel)",
   "language": "python",
   "name": "python3"
  },
  "language_info": {
   "codemirror_mode": {
    "name": "ipython",
    "version": 3
   },
   "file_extension": ".py",
   "mimetype": "text/x-python",
   "name": "python",
   "nbconvert_exporter": "python",
   "pygments_lexer": "ipython3",
   "version": "3.11.5"
  }
 },
 "nbformat": 4,
 "nbformat_minor": 5
}
